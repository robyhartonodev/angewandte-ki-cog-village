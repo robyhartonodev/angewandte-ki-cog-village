{
 "cells": [
  {
   "cell_type": "markdown",
   "source": [
    "# Import eines Pickle-Files"
   ],
   "metadata": {}
  },
  {
   "cell_type": "code",
   "execution_count": 1,
   "source": [
    "import pandas as pd\n",
    "import pickle\n",
    "import os\n",
    "\n",
    "rootdir = os.getcwd() + \"/data/training/\"\n",
    "\n",
    "print(rootdir)\n",
    "\n",
    "data = []\n",
    "labels = []\n",
    "\n",
    "for subdir, dirs, files in os.walk(rootdir):\n",
    "    for fl in files:\n",
    "        if fl.endswith('.pkl'):\n",
    "            # string split for event labelling\n",
    "            str_arr = fl.split('_')\n",
    "            label   = str_arr[1]\n",
    "\n",
    "            # read data and append it to variable\n",
    "            infile = open((rootdir + fl),'rb')\n",
    "            new_dict = pickle.load(infile, encoding='latin1')\n",
    "\n",
    "            data.append(new_dict)\n",
    "            labels.append(label)\n",
    "\n"
   ],
   "outputs": [
    {
     "output_type": "stream",
     "name": "stdout",
     "text": [
      "/Users/maximilianrohleder-kirsch/aiproj/data/\n"
     ]
    }
   ],
   "metadata": {}
  },
  {
   "cell_type": "markdown",
   "source": [
    "# Read and combine data of some activities"
   ],
   "metadata": {}
  },
  {
   "cell_type": "code",
   "execution_count": 83,
   "source": [
    "import numpy as np \n",
    "from collections import defaultdict\n",
    "\n",
    "keys = data[0].keys()\n",
    "\n",
    "unique_keys = []\n",
    "[unique_keys.append(k) for k in keys if k not in unique_keys]\n",
    "\n",
    "bending = []\n",
    "bending_dict = defaultdict(list)\n",
    "\n",
    "# Collecting Bending data\n",
    "for i in range(0, 9):\n",
    "    for key in data[i].keys():\n",
    "        x = data[i][key]\n",
    "        y = key\n",
    "        bending_dict[y].append(x)\n",
    "\n",
    "concat_data = defaultdict(list)\n",
    "\n",
    "for k in unique_keys:\n",
    "    for i in bending_dict[k]:\n",
    "        concat_data[k].append(i)\n",
    "\n",
    "    concat_data[k] = np.vstack(concat_data[k])\n",
    "\n",
    "# ToDo: Mean, Varianz, Minimum, Maximum, Differenz Minimum - Maximum\n",
    "\n"
   ],
   "outputs": [
    {
     "output_type": "stream",
     "name": "stdout",
     "text": [
      "-8.9375\n",
      "0.002130528966666667\n"
     ]
    }
   ],
   "metadata": {}
  },
  {
   "cell_type": "code",
   "execution_count": null,
   "source": [],
   "outputs": [],
   "metadata": {}
  }
 ],
 "metadata": {
  "orig_nbformat": 4,
  "language_info": {
   "name": "python",
   "version": "3.9.6",
   "mimetype": "text/x-python",
   "codemirror_mode": {
    "name": "ipython",
    "version": 3
   },
   "pygments_lexer": "ipython3",
   "nbconvert_exporter": "python",
   "file_extension": ".py"
  },
  "kernelspec": {
   "name": "python3",
   "display_name": "Python 3.9.6 64-bit"
  },
  "interpreter": {
   "hash": "aee8b7b246df8f9039afb4144a1f6fd8d2ca17a180786b69acc140d282b71a49"
  }
 },
 "nbformat": 4,
 "nbformat_minor": 2
}