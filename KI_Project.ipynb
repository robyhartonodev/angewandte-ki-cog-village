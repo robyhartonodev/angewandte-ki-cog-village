{
 "cells": [
  {
   "cell_type": "markdown",
   "source": [
    "# Import eines Pickle-Files"
   ],
   "metadata": {}
  },
  {
   "cell_type": "code",
   "execution_count": 1,
   "source": [
    "import pandas as pd\n",
    "import pickle\n",
    "import os\n",
    "\n",
    "rootdir = os.getcwd() + \"/data/training/\"\n",
    "\n",
    "print(rootdir)\n",
    "\n",
    "data = []\n",
    "labels = []\n",
    "\n",
    "for subdir, dirs, files in os.walk(rootdir):\n",
    "    for fl in files:\n",
    "        if fl.endswith('.pkl'):\n",
    "            # string split for event labelling\n",
    "            str_arr = fl.split('_')\n",
    "            label   = str_arr[1]\n",
    "\n",
    "            # read data and append it to variable\n",
    "            infile = open((rootdir + fl),'rb')\n",
    "            new_dict = pickle.load(infile, encoding='latin1')\n",
    "\n",
    "            data.append(new_dict)\n",
    "            labels.append(label)\n"
   ],
   "outputs": [
    {
     "output_type": "stream",
     "name": "stdout",
     "text": [
      "/Users/maximilianrohleder-kirsch/angewandte-ki-cog-village/data/training/\n"
     ]
    }
   ],
   "metadata": {}
  },
  {
   "cell_type": "markdown",
   "source": [
    "# Read and combine data of some activities"
   ],
   "metadata": {}
  },
  {
   "cell_type": "code",
   "execution_count": 20,
   "source": [
    "import numpy as np \n",
    "from collections import defaultdict\n",
    "\n",
    "keys = data[0].keys()\n",
    "\n",
    "unique_keys = []\n",
    "[unique_keys.append(k) for k in keys if k not in unique_keys]\n",
    "\n",
    "bending = []\n",
    "bending_dict = defaultdict(list)\n",
    "\n",
    "# Collecting Bending data\n",
    "for i in range(0, 9):\n",
    "    for key in data[i].keys():\n",
    "        x = data[i][key]\n",
    "        y = key\n",
    "        bending_dict[y].append(x)\n",
    "\n",
    "concat_data = defaultdict(list)\n",
    "\n",
    "for k in unique_keys:\n",
    "    for i in bending_dict[k]:\n",
    "        concat_data[k].append(i)\n",
    "\n",
    "    concat_data[k] = np.vstack(concat_data[k])\n",
    "\n",
    "# ToDo: Mean, Varianz, Minimum, Maximum, Differenz Minimum - Maximum\n",
    "\n"
   ],
   "outputs": [],
   "metadata": {}
  },
  {
   "cell_type": "markdown",
   "source": [
    "# Alternative Way of concetanating the data"
   ],
   "metadata": {}
  },
  {
   "cell_type": "code",
   "execution_count": 6,
   "source": [
    "import numpy as np \n",
    "from collections import defaultdict\n",
    "\n",
    "ACTIVITIES = { \n",
    "    \"Bending\" : 0,\n",
    "    \"Lying\": 1,\n",
    "    \"Sitting\": 2,\n",
    "    \"Squatting\": 3,\n",
    "    \"Standing\": 4,\n",
    "    \"Walking\": 5,\n",
    "    \"Bring\": 6,\n",
    "    \"CleanFloor\": 7,\n",
    "    \"CleanSurface\": 8,\n",
    "    \"CloseBigBox\": 9,\n",
    "    \"CloseDoor\": 10,\n",
    "    \"CloseDrawer\": 11,\n",
    "    \"CloseLidByRotate\": 12,\n",
    "    \"CloseOtherLid\": 13,\n",
    "    \"CloseSmallBox\": 14,\n",
    "    \"CloseTapWater\": 15,\n",
    "    \"Drink\": 16,\n",
    "    \"DryOffHand\": 17,\n",
    "    \"DryOffHandByShake\": 18,\n",
    "    \"EatSmall\": 19,\n",
    "    \"Gargle\": 20,\n",
    "    \"GettingUp\": 21,\n",
    "    \"Hang\": 22,\n",
    "    \"LyingDown\": 23,\n",
    "    \"OpenBag\": 24,\n",
    "    \"OpenBigBox\": 25,\n",
    "    \"OpenDoor\": 26,\n",
    "    \"OpenDrawer\": 27,\n",
    "    \"OpenLidByRotate\": 28,\n",
    "    \"OpenOtherLid\": 29,\n",
    "    \"OpenSmallBox\": 30,\n",
    "    \"OpenTapWater\": 31,\n",
    "    \"PlugIn\": 32,\n",
    "    \"PressByGrasp\": 33,\n",
    "    \"PressFromTop\": 34,\n",
    "    \"PressSwitch\": 35,\n",
    "    \"PutFromBottle\": 36,\n",
    "    \"PutFromTapWater\": 37,\n",
    "    \"PutHighPosition\": 38,\n",
    "    \"PutOnFloor\": 39,\n",
    "    \"Read\": 40,\n",
    "    \"Rotate\": 41,\n",
    "    \"RubHands\": 42,\n",
    "    \"ScoopPut\": 43,\n",
    "    \"SittingDown\": 44,\n",
    "    \"SquattingDown\": 45,\n",
    "    \"StandingUp\": 46,\n",
    "    \"StandUpFromSquatting\": 47,\n",
    "    \"TakeFromFloor\": 48,\n",
    "    \"TakeFromHighPosition\": 49,\n",
    "    \"TakeOffJacket\": 50,\n",
    "    \"TakeOut\": 51,\n",
    "    \"TalkByTelephone\": 52,\n",
    "    \"ThrowOut\": 53,\n",
    "    \"ThrowOutWater\": 54,\n",
    "    \"TouchSmartPhoneScreen\": 55,\n",
    "    \"Type\": 56,\n",
    "    \"Unhang\": 57,\n",
    "    \"Unplug\": 58,\n",
    "    \"WearJacket\": 59,\n",
    "    \"Write\": 60 \n",
    "}\n",
    "\n",
    "keys = list(data[0].keys())\n",
    "unique_labels = list(set(labels))\n",
    "\n",
    "activity_multi_arr = []\n",
    "activity_labels = unique_labels\n",
    "\n",
    "for label in unique_labels:\n",
    "    data_total = defaultdict(list)\n",
    "\n",
    "    for dt in data:\n",
    "        keys = list(dt.keys())\n",
    "        if dt[\"label\"] == ACTIVITIES[label]:\n",
    "            for k in keys:\n",
    "                data_total[k].append(dt[k])\n",
    "\n",
    "    for k in keys:\n",
    "        data_total[k] = np.vstack(data_total[k])\n",
    "\n",
    "    activity_multi_arr.append(data_total)\n"
   ],
   "outputs": [
    {
     "output_type": "error",
     "ename": "AttributeError",
     "evalue": "'list' object has no attribute 'shape'",
     "traceback": [
      "\u001b[0;31m---------------------------------------------------------------------------\u001b[0m",
      "\u001b[0;31mAttributeError\u001b[0m                            Traceback (most recent call last)",
      "\u001b[0;32m/var/folders/rd/49flvt4d61df7v9ddyzdg3700000gn/T/ipykernel_9031/2952228411.py\u001b[0m in \u001b[0;36m<module>\u001b[0;34m\u001b[0m\n\u001b[1;32m     85\u001b[0m \u001b[0;34m\u001b[0m\u001b[0m\n\u001b[1;32m     86\u001b[0m     \u001b[0mactivity_multi_arr\u001b[0m\u001b[0;34m.\u001b[0m\u001b[0mappend\u001b[0m\u001b[0;34m(\u001b[0m\u001b[0mdata_total\u001b[0m\u001b[0;34m)\u001b[0m\u001b[0;34m\u001b[0m\u001b[0;34m\u001b[0m\u001b[0m\n\u001b[0;32m---> 87\u001b[0;31m \u001b[0mactivity_multi_arr\u001b[0m\u001b[0;34m.\u001b[0m\u001b[0mshape\u001b[0m\u001b[0;34m\u001b[0m\u001b[0;34m\u001b[0m\u001b[0m\n\u001b[0m",
      "\u001b[0;31mAttributeError\u001b[0m: 'list' object has no attribute 'shape'"
     ]
    }
   ],
   "metadata": {}
  }
 ],
 "metadata": {
  "orig_nbformat": 4,
  "language_info": {
   "name": "python",
   "version": "3.9.6",
   "mimetype": "text/x-python",
   "codemirror_mode": {
    "name": "ipython",
    "version": 3
   },
   "pygments_lexer": "ipython3",
   "nbconvert_exporter": "python",
   "file_extension": ".py"
  },
  "kernelspec": {
   "name": "python3",
   "display_name": "Python 3.9.6 64-bit"
  },
  "interpreter": {
   "hash": "aee8b7b246df8f9039afb4144a1f6fd8d2ca17a180786b69acc140d282b71a49"
  }
 },
 "nbformat": 4,
 "nbformat_minor": 2
}